{
 "cells": [
  {
   "cell_type": "code",
   "execution_count": 2,
   "id": "ce122c70",
   "metadata": {},
   "outputs": [],
   "source": [
    "import os\n",
    "from itertools import product\n",
    "from mrg_utils import *\n",
    "import nltk.corpus\n",
    "import random"
   ]
  },
  {
   "cell_type": "markdown",
   "id": "945a3b18",
   "metadata": {},
   "source": [
    "# DATA PROCESSING"
   ]
  },
  {
   "cell_type": "code",
   "execution_count": 3,
   "id": "3e93c416",
   "metadata": {},
   "outputs": [],
   "source": [
    "def parsedSents(wsjDir):\n",
    "    reader = nltk.corpus.BracketParseCorpusReader(wsjDir, \".*/.*\\.mrg\")\n",
    "    return reader.parsed_sents()\n",
    "\n",
    "\n",
    "wsj = \"LDC99T42-20211111T235121Z-001/LDC99T42/treebank_3/parsed/mrg/wsj\"\n",
    "wsjdev = \"LDC99T42-20211111T235121Z-001/LDC99T42/treebank_3/parsed/mrg/dev\"\n",
    "wsjs = \"LDC99T42-20211111T235121Z-001/LDC99T42/treebank_3/parsed/mrg/small\"\n",
    "\n",
    "train = parsedSents(wsj)\n",
    "dev = parsedSents(wsjdev)\n",
    "s = parsedSents(wsjs)"
   ]
  },
  {
   "cell_type": "code",
   "execution_count": 10,
   "id": "e09ed1e4",
   "metadata": {},
   "outputs": [],
   "source": [
    "def generate(trees):\n",
    "    CFG = []\n",
    "    for tree in trees:\n",
    "        tree.chomsky_normal_form()\n",
    "        CFG = CFG + tree.productions()\n",
    "    cfg = list(set(CFG))\n",
    "    return cfg,CFG    "
   ]
  },
  {
   "cell_type": "code",
   "execution_count": 5,
   "id": "3a125c28",
   "metadata": {},
   "outputs": [],
   "source": [
    "#writing cfgs into file for further use\n",
    "def writeinto(cfg,CFG,sample):\n",
    "    fnamecfg = 'cfg_'+sample\n",
    "    fnameCFG = 'CFG_'+sample\n",
    "    with open(fnamecfg, 'w') as filehandle:\n",
    "        for listitem in cfg:\n",
    "            filehandle.write('%s\\n' % listitem)\n",
    "        \n",
    "    with open(fnameCFG, 'w') as filehandle:\n",
    "        for listitem in CFG:\n",
    "            filehandle.write('%s\\n' % listitem)\n"
   ]
  },
  {
   "cell_type": "code",
   "execution_count": 6,
   "id": "b6e23aec",
   "metadata": {},
   "outputs": [],
   "source": [
    "cfgsamp,CFGsamp = generate(s)  #generate sample data\n",
    "writeinto(cfgsamp,CFGsamp,'sample')"
   ]
  },
  {
   "cell_type": "code",
   "execution_count": 7,
   "id": "a9dc36e5",
   "metadata": {},
   "outputs": [],
   "source": [
    "cfgdev,CFGdev = generate(dev) #generate dev data\n",
    "writeinto(cfgdev,CFGdev,'dev')"
   ]
  },
  {
   "cell_type": "code",
   "execution_count": 11,
   "id": "c5fb01e4",
   "metadata": {},
   "outputs": [],
   "source": [
    "cfgtrain,CFGtrain = generate(train) #generate train data\n",
    "writeinto(cfgtrain,CFGtrain,'train')"
   ]
  },
  {
   "cell_type": "code",
   "execution_count": 187,
   "id": "2d4247fc",
   "metadata": {},
   "outputs": [],
   "source": [
    "with open('UD_English-EWT/en_ewt-ud-test.txt', encoding=\"mbcs\") as f1:\n",
    "    sents1 = f1.read()\n",
    "test=sents1.split('\\n\\n')"
   ]
  },
  {
   "cell_type": "markdown",
   "id": "569ab264",
   "metadata": {},
   "source": [
    "# INSIDE OUTSIDE"
   ]
  },
  {
   "cell_type": "code",
   "execution_count": 18,
   "id": "ff39ec43",
   "metadata": {},
   "outputs": [],
   "source": [
    "def inside(wo, ur, br, non_terminals):  \n",
    "    in_prob = []\n",
    "    temp = []\n",
    "    for i in range(0, len(wo)):\n",
    "        for j in range(0, len(wo)):\n",
    "            temp.append({})\n",
    "        in_prob.append(temp)\n",
    "        temp = []\n",
    "    \n",
    "    for i in range(0, len(wo)):\n",
    "        for unary_rule in ur:\n",
    "            if unary_rule[1] == wo[i]:\n",
    "                in_prob[i][i][unary_rule[0]] = unary_rule[2]\n",
    "                \n",
    "   \n",
    "    j = 1\n",
    "    while j < len(wo):\n",
    "        for i in range(0, len(wo)):\n",
    "            if (i + j) < len(wo):\n",
    "                for nt_left in non_terminals:\n",
    "                    for nt_right in non_terminals:\n",
    "                        for binary_rule in br:\n",
    "                            if binary_rule[1] == nt_left and binary_rule[2] == nt_right:\n",
    "                                sProb = 0\n",
    "                                for d in range(i, i + j):\n",
    "                                    if nt_left in in_prob[i][d].keys() and nt_right in \\\n",
    "                                    in_prob[d + 1][i + j].keys():\n",
    "                                        sProb += binary_rule[3] * in_prob[i][d][nt_left] * in_prob[d + 1][i +j][nt_right]\n",
    "                                        \n",
    "                                if sProb > 0:\n",
    "                                    if binary_rule[0] in in_prob[i][i + j].keys():\n",
    "                                        in_prob[i][i + j][binary_rule[0]] += sProb\n",
    "                                    else:\n",
    "                                        in_prob[i][i + j][binary_rule[0]] = sProb                            \n",
    "        j += 1\n",
    "        \n",
    "\n",
    "    return in_prob"
   ]
  },
  {
   "cell_type": "code",
   "execution_count": 19,
   "id": "d5644ac4",
   "metadata": {},
   "outputs": [],
   "source": [
    "def outside(words, inside_probs, binary_rules, nts):   \n",
    "    outside_probs = []\n",
    "    new = []\n",
    "    for i in range(0, len(words)):\n",
    "        for j in range(0, len(words)):\n",
    "            new.append({})\n",
    "        outside_probs.append(new)\n",
    "        new = []\n",
    "    \n",
    "    outside_probs[0][len(words) - 1]['S'] = 1.0\n",
    "\n",
    "    j = len(words) - 1 \n",
    "    while j >= 0:\n",
    "        for i in range(0, len(words)):\n",
    "            if (i + j) < len(words):\n",
    "                # check rules to the right\n",
    "                for nt_start in nts:\n",
    "                    for nt_right in nts:\n",
    "                        for binary_rule in binary_rules:\n",
    "                            if binary_rule[0] == nt_start and binary_rule[2] == nt_right and binary_rule[1] != nt_right:\n",
    "                                sum_prob = 0\n",
    "                                for e in range(i + j + 1, len(words)):\n",
    "                                    if nt_start in outside_probs[i][e].keys() and nt_right in inside_probs[i + j + 1][e].keys():\n",
    "                                        sum_prob += binary_rule[3] * outside_probs[i][e][nt_start] * inside_probs[i + j + 1][e][nt_right]\n",
    "                                if sum_prob > 0:\n",
    "                                    if binary_rule[1] in outside_probs[i][i + j].keys():\n",
    "                                        outside_probs[i][i + j][binary_rule[1]] += sum_prob\n",
    "                                    else:\n",
    "                                        outside_probs[i][i + j][binary_rule[1]] = sum_prob\n",
    "                                        \n",
    "                # check rules above\n",
    "                for nt_start in nts:\n",
    "                    for nt_left in nts:\n",
    "                        for binary_rule in binary_rules:\n",
    "                            if binary_rule[0] == nt_start and binary_rule[1] \\\n",
    "                            == nt_left:\n",
    "                                sum_prob = 0\n",
    "                                # add up probabilities corresponding to the \n",
    "                                # rule\n",
    "                                for e in range(0, i):\n",
    "                                    if nt_start in \\\n",
    "                                    outside_probs[e][i + j].keys() and \\\n",
    "                                    nt_left in inside_probs[e][i - 1].keys():\n",
    "                                        sum_prob += binary_rule[3] * \\\n",
    "                                        outside_probs[e][i + j][nt_start] * \\\n",
    "                                        inside_probs[e][i - 1][nt_left]\n",
    "                                if sum_prob > 0:\n",
    "                                    if binary_rule[2] in \\\n",
    "                                    outside_probs[i][i + j].keys():\n",
    "                                        outside_probs[i][i + j] \\\n",
    "                                        [binary_rule[2]] += sum_prob\n",
    "                                    else:\n",
    "                                        outside_probs[i][i + j] \\\n",
    "                                        [binary_rule[2]] = sum_prob                        \n",
    "        \n",
    "        j -= 1\n",
    "        \n",
    "    return outside_probs"
   ]
  },
  {
   "cell_type": "code",
   "execution_count": 106,
   "id": "05231029",
   "metadata": {},
   "outputs": [],
   "source": [
    "def print_rules(u_rules, b_rules, output_file):   \n",
    "    with open(output_file, 'w'):\n",
    "        pass\n",
    "    unary_rules, binary_rules = u_rules, b_rules\n",
    "    for binary_rule in binary_rules:\n",
    "        if binary_rule[-1] >= 0.0:\n",
    "            with open(output_file, 'a+') as o:\n",
    "                o.write(' '.join([str(binary_rule[0]), '->', str(binary_rule[1]), str(binary_rule[2]), str(binary_rule[3]), '\\n']))\n",
    "    for unary_rule in unary_rules:\n",
    "        if unary_rule[-1] >= 0.0:\n",
    "            with open(output_file, 'a+') as o:\n",
    "                o.write(' '.join([str(unary_rule[0]), '->', str(unary_rule[1]), str(unary_rule[2]), '\\n']))"
   ]
  },
  {
   "cell_type": "code",
   "execution_count": 20,
   "id": "9d24791e",
   "metadata": {},
   "outputs": [],
   "source": [
    "def train_iterate(words, inside_probs, outside_probs, binary_rules):\n",
    "\n",
    "    updated_rules = []\n",
    "\n",
    "    for binary_rule in binary_rules:\n",
    "        numerator = 0\n",
    "        for i in range(0, len(words)):\n",
    "            for j in range(i + 1, len(words)):\n",
    "                if binary_rule[0] in outside_probs[i][j].keys():\n",
    "                        inside_sum = 0\n",
    "                        for d in range(i, j):\n",
    "                            if binary_rule[1] in inside_probs[i][d].keys() and binary_rule[2] in inside_probs[d + 1][j].keys():\n",
    "                                inside_sum += inside_probs[i][d][binary_rule[1]] * inside_probs[d + 1][j][binary_rule[2]]                                \n",
    "                        outside_sum = outside_probs[i][j][binary_rule[0]] * binary_rule[3]\n",
    "                        numerator += inside_sum * outside_sum\n",
    "        \n",
    "        denominator = 0\n",
    "        for i in range(0, len(words)):\n",
    "            for j in range(i, len(words)):\n",
    "                if binary_rule[0] in outside_probs[i][j].keys() and binary_rule[0] in inside_probs[i][j].keys():\n",
    "                    denominator += outside_probs[i][j][binary_rule[0]] * inside_probs[i][j][binary_rule[0]] \n",
    "               \n",
    "        try:\n",
    "            new_prob = numerator / denominator\n",
    "        except ZeroDivisionError:\n",
    "            new_prob =  0.0\n",
    "        \n",
    "        if new_prob == 0.0:\n",
    "            new_prob = binary_rule[-1]\n",
    "        updated_rules.append((binary_rule[0], binary_rule[1], binary_rule[2],new_prob))\n",
    "        \n",
    "    return updated_rules"
   ]
  },
  {
   "cell_type": "code",
   "execution_count": 21,
   "id": "26d7be31",
   "metadata": {},
   "outputs": [],
   "source": [
    "def improvement(old, new):\n",
    "    improv = 0\n",
    "\n",
    "    for i in range(0, len(old)):\n",
    "        if abs(old[i][-1] - new[i][-1]) > improv:\n",
    "            improv = abs(old[i][-1] - new[i][-1])\n",
    "    \n",
    "    return improv"
   ]
  },
  {
   "cell_type": "code",
   "execution_count": 24,
   "id": "13842f62",
   "metadata": {},
   "outputs": [],
   "source": [
    "def training(unary, binary, non_terminals, i, t):\n",
    "    if t == 'dev':\n",
    "        with open('UD_English-EWT/en_ewt-ud-dev.txt', encoding=\"mbcs\") as f:\n",
    "            sents1 = f.read()\n",
    "    elif t == 'train':\n",
    "        with open('UD_English-EWT/en_ewt-ud-train.txt', encoding=\"mbcs\") as f1:\n",
    "            sents1 = f1.read()\n",
    "    senon_terminals=senon_terminals1.split('\\n\\n')        \n",
    "    iterations = 0\n",
    "    ud_rules = binary\n",
    "    print('Training ' + str(i) + '...\\n')\n",
    "    for sent in senon_terminals:\n",
    "        words = sent.split()\n",
    "        inside_probs = inside(words, unary, ud_rules, non_terminals)\n",
    "        outside_probs = outside(words, inside_probs, ud_rules, non_terminals)\n",
    "        ud_rules = train_iterate(words, inside_probs, outside_probs, ud_rules)\n",
    "        \n",
    "        \n",
    "    iterations += 1\n",
    "    print('Iteration', iterations)\n",
    "    print_rules(unary, binary, 'log/' + str(iterations) + '.log')\n",
    "    \n",
    "\n",
    "    impr = improvement(binary, ud_rules)\n",
    "    threshold = 1e-04\n",
    "    while impr >= threshold:\n",
    "        temp_u = []\n",
    "        for ud_rule in ud_rules:\n",
    "            if ud_rule[-1] != 0.0:\n",
    "                temp_u.append(ud_rule)\n",
    "        ud_rules = temp_u\n",
    "        binary = ud_rules\n",
    "        \n",
    "        for sent in senon_terminals:\n",
    "            words = sent.split()\n",
    "            \n",
    "            inside_probs = inside(words, unary, ud_rules, non_terminals)\n",
    "            outside_probs = outside(words, inside_probs, ud_rules, non_terminals)\n",
    "            ud_rules = train_iterate(words, inside_probs, outside_probs, ud_rules)\n",
    "            \n",
    "    \n",
    "            \n",
    "        iterations += 1\n",
    "        impr = check_improvement(binary, ud_rules)\n",
    "        \n",
    "    print('terminated')\n",
    "    print_rules(unary, binary, 'output_' + str(i) + '.txt')\n",
    "    return ud_rules\n",
    "\n"
   ]
  },
  {
   "cell_type": "code",
   "execution_count": 61,
   "id": "c8dd62a7",
   "metadata": {},
   "outputs": [],
   "source": [
    "def read(cfg):\n",
    "    binary_rules, unary_rules, nts, ts = [], [], [], []\n",
    "    nts = list(map(lambda x : x.lhs(), cfg))\n",
    "    i = 0\n",
    "    for line in cfg:\n",
    "        l = [line.lhs()]\n",
    "        for e in list(line.rhs()):\n",
    "            l.append(e)\n",
    "        if len(l) >= 3:\n",
    "            binary_rules.append((l[0], l[1], l[2], 0.0))\n",
    "        elif len(l) >= 2:\n",
    "            unary_rules.append((l[0], l[1], 0.0))\n",
    "    \n",
    "    return unary, binary, nts"
   ]
  },
  {
   "cell_type": "code",
   "execution_count": 57,
   "id": "1e211c65",
   "metadata": {},
   "outputs": [],
   "source": [
    "unary, binary, nonTerminals=read(cfgtrain)\n",
    "rules = training(unary, binary, nonTerminals, 0,'train')"
   ]
  },
  {
   "cell_type": "markdown",
   "id": "c6bd989d",
   "metadata": {},
   "source": [
    "# CYK"
   ]
  },
  {
   "cell_type": "code",
   "execution_count": 158,
   "id": "4251e2d0",
   "metadata": {},
   "outputs": [],
   "source": [
    "class Node:\n",
    "    def __init__(self, left, right1, right2=None, prob=0.5):\n",
    "        self.left = left\n",
    "        self.right1 = right1\n",
    "        self.right2 = right2\n",
    "        self.prob = prob\n",
    "    def __repr__(self):\n",
    "        return self.left"
   ]
  },
  {
   "cell_type": "code",
   "execution_count": 159,
   "id": "3c376963",
   "metadata": {},
   "outputs": [],
   "source": [
    "def read_input(sentence):\n",
    "    with open(sentence, encoding=\"mbcs\") as f1:\n",
    "        sents1 = f1.read()\n",
    "    sents=sents1.split('\\n\\n') \n",
    "    return sents[0].split()   "
   ]
  },
  {
   "cell_type": "code",
   "execution_count": 160,
   "id": "1593cd56",
   "metadata": {},
   "outputs": [],
   "source": [
    "def read_grammar(grammar):\n",
    "    with open(grammar) as fr2:\n",
    "        lines = fr2.readlines()\n",
    "        g=[]\n",
    "        for each in lines:\n",
    "            s = each.replace('->','')\n",
    "            g.append(s.split())\n",
    "    return g    "
   ]
  },
  {
   "cell_type": "code",
   "execution_count": 161,
   "id": "6ec447fe",
   "metadata": {},
   "outputs": [],
   "source": [
    "def parse(text,grammar):\n",
    "        length = len(text)\n",
    "        parse_table = [[[] for i in range(length)] for j in range(length)]\n",
    "        for j, word in enumerate(text):\n",
    "            # go through every column, from left to right\n",
    "            for rule in grammar:\n",
    "                # fill the terminal word cell\n",
    "                if f\"'{word}'\" == rule[1]:\n",
    "                    parse_table[j][j].append(Node(rule[0], word, prob=rule[-1]))\n",
    "            # go through every row, from bottom to top\n",
    "            for i in range(j-1, -1, -1):\n",
    "                for k in range(i, j):\n",
    "                    right1_cell = parse_table[i][k]  # cell left\n",
    "                    right2_cell = parse_table[k+1][j]  # cell beneath\n",
    "                    for rule in grammar:\n",
    "                        right1_node = [n for n in right1_cell if n.left == rule[1]]\n",
    "                        if right1_node:\n",
    "                            right2_node = [n for n in right2_cell if n.left == rule[2]]\n",
    "                            parse_table[i][j].extend(\n",
    "                                [Node(rule[0], right1, right2, rule[-1]) for right1 in right1_node for right2 in right2_node])\n",
    "        return parse_table                  "
   ]
  },
  {
   "cell_type": "code",
   "execution_count": 177,
   "id": "4ee188ab",
   "metadata": {},
   "outputs": [],
   "source": [
    "def get_parses(grammar,parse_table):\n",
    "    start_symbol = grammar[0][0]\n",
    "    final_nodes = [n for n in parse_table[0][-1] if n.left == start_symbol]\n",
    "    if final_nodes:\n",
    "        write_trees = [parseString(node) for node in final_nodes]\n",
    "        poss_trees = [poss_tree(node) for node in final_nodes]\n",
    "        maximum = poss_trees.index(max(poss_trees))\n",
    "        print(write_trees[maximum], round(poss_trees[maximum], 6))\n",
    "        return(write_trees[maximum], round(poss_trees[maximum], 6))\n",
    "    else:\n",
    "        print(\"Not Valid\")\n",
    "        return(\"Not Valid\")"
   ]
  },
  {
   "cell_type": "code",
   "execution_count": 184,
   "id": "08451012",
   "metadata": {},
   "outputs": [],
   "source": [
    "def parseString(node):\n",
    "    k = node\n",
    "    if k.right2 is None:\n",
    "        return f\"({k.left} {k.right1})\"\n",
    "    return f\"({k.left} {generate_tree(k.right1)} {generate_tree(k.right2)})\""
   ]
  },
  {
   "cell_type": "code",
   "execution_count": 185,
   "id": "18852b5a",
   "metadata": {},
   "outputs": [],
   "source": [
    "def poss_tree(node):\n",
    "    k = node\n",
    "    if k.right2 is None:\n",
    "        p = float(k.prob)\n",
    "        return p\n",
    "    return float(k.prob) * poss_tree(k.right1) * poss_tree(k.right2)\n"
   ]
  },
  {
   "cell_type": "code",
   "execution_count": 205,
   "id": "1883bed8",
   "metadata": {},
   "outputs": [],
   "source": [
    "def cyk(text):\n",
    "    grammar_path = './output.txt'\n",
    "    text_path = './str1.txt'\n",
    "    grammar=read_grammar(grammar_path)\n",
    "    input_text = text.split()\n",
    "    matrix=parse(input_text,grammar)\n",
    "    return get_parses(grammar,matrix)"
   ]
  },
  {
   "cell_type": "code",
   "execution_count": 207,
   "id": "c378bebd",
   "metadata": {},
   "outputs": [
    {
     "name": "stdout",
     "output_type": "stream",
     "text": [
      "1\n",
      "Not Valid\n",
      "1\n",
      "Not Valid\n",
      "1\n",
      "Not Valid\n",
      "1\n"
     ]
    },
    {
     "ename": "KeyboardInterrupt",
     "evalue": "",
     "output_type": "error",
     "traceback": [
      "\u001b[1;31m---------------------------------------------------------------------------\u001b[0m",
      "\u001b[1;31mKeyboardInterrupt\u001b[0m                         Traceback (most recent call last)",
      "\u001b[1;32m<ipython-input-207-ffb96760a21d>\u001b[0m in \u001b[0;36m<module>\u001b[1;34m\u001b[0m\n\u001b[0;32m      4\u001b[0m     \u001b[0mi\u001b[0m\u001b[1;33m=\u001b[0m\u001b[1;33m+\u001b[0m\u001b[1;36m1\u001b[0m\u001b[1;33m\u001b[0m\u001b[1;33m\u001b[0m\u001b[0m\n\u001b[0;32m      5\u001b[0m     \u001b[0mprint\u001b[0m\u001b[1;33m(\u001b[0m\u001b[0mi\u001b[0m\u001b[1;33m)\u001b[0m\u001b[1;33m\u001b[0m\u001b[1;33m\u001b[0m\u001b[0m\n\u001b[1;32m----> 6\u001b[1;33m     \u001b[0mcyk\u001b[0m\u001b[1;33m(\u001b[0m\u001b[0meach\u001b[0m\u001b[1;33m)\u001b[0m\u001b[1;33m\u001b[0m\u001b[1;33m\u001b[0m\u001b[0m\n\u001b[0m",
      "\u001b[1;32m<ipython-input-205-eacf9d2d80da>\u001b[0m in \u001b[0;36mcyk\u001b[1;34m(text)\u001b[0m\n\u001b[0;32m      4\u001b[0m     \u001b[0mgrammar\u001b[0m\u001b[1;33m=\u001b[0m\u001b[0mread_grammar\u001b[0m\u001b[1;33m(\u001b[0m\u001b[0mgrammar_path\u001b[0m\u001b[1;33m)\u001b[0m\u001b[1;33m\u001b[0m\u001b[1;33m\u001b[0m\u001b[0m\n\u001b[0;32m      5\u001b[0m     \u001b[0minput_text\u001b[0m \u001b[1;33m=\u001b[0m \u001b[0mtext\u001b[0m\u001b[1;33m.\u001b[0m\u001b[0msplit\u001b[0m\u001b[1;33m(\u001b[0m\u001b[1;33m)\u001b[0m\u001b[1;33m\u001b[0m\u001b[1;33m\u001b[0m\u001b[0m\n\u001b[1;32m----> 6\u001b[1;33m     \u001b[0mmatrix\u001b[0m\u001b[1;33m=\u001b[0m\u001b[0mparse\u001b[0m\u001b[1;33m(\u001b[0m\u001b[0minput_text\u001b[0m\u001b[1;33m,\u001b[0m\u001b[0mgrammar\u001b[0m\u001b[1;33m)\u001b[0m\u001b[1;33m\u001b[0m\u001b[1;33m\u001b[0m\u001b[0m\n\u001b[0m\u001b[0;32m      7\u001b[0m     \u001b[1;32mreturn\u001b[0m \u001b[0mget_parses\u001b[0m\u001b[1;33m(\u001b[0m\u001b[0mgrammar\u001b[0m\u001b[1;33m,\u001b[0m\u001b[0mmatrix\u001b[0m\u001b[1;33m)\u001b[0m\u001b[1;33m\u001b[0m\u001b[1;33m\u001b[0m\u001b[0m\n",
      "\u001b[1;32m<ipython-input-161-356d97f3aacd>\u001b[0m in \u001b[0;36mparse\u001b[1;34m(text, grammar)\u001b[0m\n\u001b[0;32m     14\u001b[0m                     \u001b[0mright2_cell\u001b[0m \u001b[1;33m=\u001b[0m \u001b[0mparse_table\u001b[0m\u001b[1;33m[\u001b[0m\u001b[0mk\u001b[0m\u001b[1;33m+\u001b[0m\u001b[1;36m1\u001b[0m\u001b[1;33m]\u001b[0m\u001b[1;33m[\u001b[0m\u001b[0mj\u001b[0m\u001b[1;33m]\u001b[0m  \u001b[1;31m# cell beneath\u001b[0m\u001b[1;33m\u001b[0m\u001b[1;33m\u001b[0m\u001b[0m\n\u001b[0;32m     15\u001b[0m                     \u001b[1;32mfor\u001b[0m \u001b[0mrule\u001b[0m \u001b[1;32min\u001b[0m \u001b[0mgrammar\u001b[0m\u001b[1;33m:\u001b[0m\u001b[1;33m\u001b[0m\u001b[1;33m\u001b[0m\u001b[0m\n\u001b[1;32m---> 16\u001b[1;33m                         \u001b[0mright1_node\u001b[0m \u001b[1;33m=\u001b[0m \u001b[1;33m[\u001b[0m\u001b[0mn\u001b[0m \u001b[1;32mfor\u001b[0m \u001b[0mn\u001b[0m \u001b[1;32min\u001b[0m \u001b[0mright1_cell\u001b[0m \u001b[1;32mif\u001b[0m \u001b[0mn\u001b[0m\u001b[1;33m.\u001b[0m\u001b[0mleft\u001b[0m \u001b[1;33m==\u001b[0m \u001b[0mrule\u001b[0m\u001b[1;33m[\u001b[0m\u001b[1;36m1\u001b[0m\u001b[1;33m]\u001b[0m\u001b[1;33m]\u001b[0m\u001b[1;33m\u001b[0m\u001b[1;33m\u001b[0m\u001b[0m\n\u001b[0m\u001b[0;32m     17\u001b[0m                         \u001b[1;32mif\u001b[0m \u001b[0mright1_node\u001b[0m\u001b[1;33m:\u001b[0m\u001b[1;33m\u001b[0m\u001b[1;33m\u001b[0m\u001b[0m\n\u001b[0;32m     18\u001b[0m                             \u001b[0mright2_node\u001b[0m \u001b[1;33m=\u001b[0m \u001b[1;33m[\u001b[0m\u001b[0mn\u001b[0m \u001b[1;32mfor\u001b[0m \u001b[0mn\u001b[0m \u001b[1;32min\u001b[0m \u001b[0mright2_cell\u001b[0m \u001b[1;32mif\u001b[0m \u001b[0mn\u001b[0m\u001b[1;33m.\u001b[0m\u001b[0mleft\u001b[0m \u001b[1;33m==\u001b[0m \u001b[0mrule\u001b[0m\u001b[1;33m[\u001b[0m\u001b[1;36m2\u001b[0m\u001b[1;33m]\u001b[0m\u001b[1;33m]\u001b[0m\u001b[1;33m\u001b[0m\u001b[1;33m\u001b[0m\u001b[0m\n",
      "\u001b[1;32m<ipython-input-161-356d97f3aacd>\u001b[0m in \u001b[0;36m<listcomp>\u001b[1;34m(.0)\u001b[0m\n\u001b[0;32m     14\u001b[0m                     \u001b[0mright2_cell\u001b[0m \u001b[1;33m=\u001b[0m \u001b[0mparse_table\u001b[0m\u001b[1;33m[\u001b[0m\u001b[0mk\u001b[0m\u001b[1;33m+\u001b[0m\u001b[1;36m1\u001b[0m\u001b[1;33m]\u001b[0m\u001b[1;33m[\u001b[0m\u001b[0mj\u001b[0m\u001b[1;33m]\u001b[0m  \u001b[1;31m# cell beneath\u001b[0m\u001b[1;33m\u001b[0m\u001b[1;33m\u001b[0m\u001b[0m\n\u001b[0;32m     15\u001b[0m                     \u001b[1;32mfor\u001b[0m \u001b[0mrule\u001b[0m \u001b[1;32min\u001b[0m \u001b[0mgrammar\u001b[0m\u001b[1;33m:\u001b[0m\u001b[1;33m\u001b[0m\u001b[1;33m\u001b[0m\u001b[0m\n\u001b[1;32m---> 16\u001b[1;33m                         \u001b[0mright1_node\u001b[0m \u001b[1;33m=\u001b[0m \u001b[1;33m[\u001b[0m\u001b[0mn\u001b[0m \u001b[1;32mfor\u001b[0m \u001b[0mn\u001b[0m \u001b[1;32min\u001b[0m \u001b[0mright1_cell\u001b[0m \u001b[1;32mif\u001b[0m \u001b[0mn\u001b[0m\u001b[1;33m.\u001b[0m\u001b[0mleft\u001b[0m \u001b[1;33m==\u001b[0m \u001b[0mrule\u001b[0m\u001b[1;33m[\u001b[0m\u001b[1;36m1\u001b[0m\u001b[1;33m]\u001b[0m\u001b[1;33m]\u001b[0m\u001b[1;33m\u001b[0m\u001b[1;33m\u001b[0m\u001b[0m\n\u001b[0m\u001b[0;32m     17\u001b[0m                         \u001b[1;32mif\u001b[0m \u001b[0mright1_node\u001b[0m\u001b[1;33m:\u001b[0m\u001b[1;33m\u001b[0m\u001b[1;33m\u001b[0m\u001b[0m\n\u001b[0;32m     18\u001b[0m                             \u001b[0mright2_node\u001b[0m \u001b[1;33m=\u001b[0m \u001b[1;33m[\u001b[0m\u001b[0mn\u001b[0m \u001b[1;32mfor\u001b[0m \u001b[0mn\u001b[0m \u001b[1;32min\u001b[0m \u001b[0mright2_cell\u001b[0m \u001b[1;32mif\u001b[0m \u001b[0mn\u001b[0m\u001b[1;33m.\u001b[0m\u001b[0mleft\u001b[0m \u001b[1;33m==\u001b[0m \u001b[0mrule\u001b[0m\u001b[1;33m[\u001b[0m\u001b[1;36m2\u001b[0m\u001b[1;33m]\u001b[0m\u001b[1;33m]\u001b[0m\u001b[1;33m\u001b[0m\u001b[1;33m\u001b[0m\u001b[0m\n",
      "\u001b[1;31mKeyboardInterrupt\u001b[0m: "
     ]
    }
   ],
   "source": [
    "test_parses = []\n",
    "for each in test:\n",
    "    cyk(each)"
   ]
  },
  {
   "cell_type": "code",
   "execution_count": 210,
   "id": "fa29b65c",
   "metadata": {},
   "outputs": [
    {
     "name": "stdout",
     "output_type": "stream",
     "text": [
      "Not Valid\n"
     ]
    }
   ],
   "source": [
    "grammar_path = './output.txt'\n",
    "text_path = './str1.txt'\n",
    "grammar=read_grammar(grammar_path)\n",
    "input_text = read_input(text_path)\n",
    "matrix=parse(input_text,grammar)\n",
    "get_parses(grammar,matrix)"
   ]
  },
  {
   "cell_type": "code",
   "execution_count": 209,
   "id": "0e6a5bf6",
   "metadata": {},
   "outputs": [
    {
     "name": "stdout",
     "output_type": "stream",
     "text": [
      "[[Verb, VP, S], [], [VP, VP1, VP2, S], [], [VP, VP1, VP2, S, VP, VP, S, S]]\n",
      "[[], [Det], [NP], [], [NP]]\n",
      "[[], [], [Noun, Nominal, NP], [], [Nominal, NP]]\n",
      "[[], [], [], [Preposition], [PP]]\n",
      "[[], [], [], [], [Proper-Noun, NP]]\n"
     ]
    }
   ],
   "source": [
    "for i in matrix:\n",
    "    print(i)"
   ]
  },
  {
   "cell_type": "code",
   "execution_count": null,
   "id": "4d38ee69",
   "metadata": {},
   "outputs": [],
   "source": []
  },
  {
   "cell_type": "code",
   "execution_count": null,
   "id": "e2d9d6cd",
   "metadata": {},
   "outputs": [],
   "source": []
  },
  {
   "cell_type": "code",
   "execution_count": null,
   "id": "0130a7ab",
   "metadata": {},
   "outputs": [],
   "source": []
  },
  {
   "cell_type": "code",
   "execution_count": null,
   "id": "b1accfa7",
   "metadata": {},
   "outputs": [],
   "source": []
  },
  {
   "cell_type": "code",
   "execution_count": null,
   "id": "9906b377",
   "metadata": {},
   "outputs": [],
   "source": []
  },
  {
   "cell_type": "code",
   "execution_count": null,
   "id": "5d48da45",
   "metadata": {},
   "outputs": [],
   "source": []
  },
  {
   "cell_type": "code",
   "execution_count": null,
   "id": "4ae93206",
   "metadata": {},
   "outputs": [],
   "source": []
  },
  {
   "cell_type": "code",
   "execution_count": null,
   "id": "1c9a2c2c",
   "metadata": {},
   "outputs": [],
   "source": []
  },
  {
   "cell_type": "code",
   "execution_count": null,
   "id": "7127aa9d",
   "metadata": {},
   "outputs": [],
   "source": []
  },
  {
   "cell_type": "code",
   "execution_count": null,
   "id": "b76b7ae1",
   "metadata": {},
   "outputs": [],
   "source": []
  },
  {
   "cell_type": "code",
   "execution_count": null,
   "id": "72d0dc59",
   "metadata": {},
   "outputs": [],
   "source": []
  },
  {
   "cell_type": "markdown",
   "id": "63c1f0af",
   "metadata": {},
   "source": [
    "# EVALUATE"
   ]
  },
  {
   "cell_type": "code",
   "execution_count": null,
   "id": "fee9d460",
   "metadata": {},
   "outputs": [],
   "source": []
  }
 ],
 "metadata": {
  "kernelspec": {
   "display_name": "Python 3",
   "language": "python",
   "name": "python3"
  },
  "language_info": {
   "codemirror_mode": {
    "name": "ipython",
    "version": 3
   },
   "file_extension": ".py",
   "mimetype": "text/x-python",
   "name": "python",
   "nbconvert_exporter": "python",
   "pygments_lexer": "ipython3",
   "version": "3.8.8"
  }
 },
 "nbformat": 4,
 "nbformat_minor": 5
}
